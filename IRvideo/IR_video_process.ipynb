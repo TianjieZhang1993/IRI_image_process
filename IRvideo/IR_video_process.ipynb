{
 "cells": [
  {
   "cell_type": "code",
   "execution_count": 1,
   "id": "5fccbede",
   "metadata": {},
   "outputs": [],
   "source": [
    "import cv2\n",
    "import matplotlib.pyplot as plt\n",
    "import numpy as np\n",
    "%matplotlib inline"
   ]
  },
  {
   "cell_type": "code",
   "execution_count": 2,
   "id": "14ba27b3",
   "metadata": {},
   "outputs": [],
   "source": [
    "vc=cv2.VideoCapture('/Users/zhangtianjie/Downloads/20210826_155757_IR.wmv')"
   ]
  },
  {
   "cell_type": "code",
   "execution_count": 3,
   "id": "ffd3b287",
   "metadata": {},
   "outputs": [],
   "source": [
    "if vc.isOpened():\n",
    "    open,frame=vc.read()\n",
    "else:\n",
    "    open=False"
   ]
  },
  {
   "cell_type": "code",
   "execution_count": 4,
   "id": "5ce00b00",
   "metadata": {},
   "outputs": [],
   "source": [
    "while open:\n",
    "    ret,frame=vc.read()\n",
    "    if frame is None:\n",
    "        break\n",
    "    if ret==True:\n",
    "        gray=cv2.cvtColor(frame,cv2.COLOR_BGR2GRAY)\n",
    "        gaussian=cv2.GaussianBlur(gray,(5,5),1)\n",
    "        ret2, th2 = cv2.threshold(gaussian, 0, 255, cv2.THRESH_OTSU)\n",
    "        cv2.imshow('raw',frame)\n",
    "        #plt.imshow(gaussian)\n",
    "        cv2.imshow('result',th2)\n",
    "        if cv2.waitKey(10) &0xFF==27:#正常一秒30帧\n",
    "            break\n",
    "vc.release()\n",
    "cv2.destroyAllWindows()"
   ]
  },
  {
   "cell_type": "code",
   "execution_count": null,
   "id": "9342b258",
   "metadata": {},
   "outputs": [],
   "source": []
  },
  {
   "cell_type": "code",
   "execution_count": null,
   "id": "9667ba05",
   "metadata": {},
   "outputs": [],
   "source": []
  },
  {
   "cell_type": "code",
   "execution_count": null,
   "id": "2996d1f5",
   "metadata": {},
   "outputs": [],
   "source": []
  },
  {
   "cell_type": "code",
   "execution_count": null,
   "id": "0edb442b",
   "metadata": {},
   "outputs": [],
   "source": []
  }
 ],
 "metadata": {
  "kernelspec": {
   "display_name": "Python 3 (ipykernel)",
   "language": "python",
   "name": "python3"
  },
  "language_info": {
   "codemirror_mode": {
    "name": "ipython",
    "version": 3
   },
   "file_extension": ".py",
   "mimetype": "text/x-python",
   "name": "python",
   "nbconvert_exporter": "python",
   "pygments_lexer": "ipython3",
   "version": "3.8.12"
  }
 },
 "nbformat": 4,
 "nbformat_minor": 5
}
