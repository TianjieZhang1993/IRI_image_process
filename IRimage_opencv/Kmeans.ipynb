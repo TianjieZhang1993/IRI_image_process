{
 "cells": [
  {
   "cell_type": "code",
   "execution_count": 4,
   "id": "fc7ea0a0",
   "metadata": {},
   "outputs": [],
   "source": [
    "import cv2\n",
    "import matplotlib.pyplot as plt\n",
    "import numpy as np\n",
    "from skimage import measure, morphology\n",
    "%matplotlib inline"
   ]
  },
  {
   "cell_type": "code",
   "execution_count": null,
   "id": "c3f66363",
   "metadata": {},
   "outputs": [],
   "source": [
    "image = cv2.imread('IRimage_matlab/o1.jpg')\n",
    "\n",
    "# 构建图像数据\n",
    "data = image.reshape((-1,3))\n",
    "data = np.float32(image)\n",
    "\n",
    "# MAX_ITER最大迭代次数，EPS最高精度\n",
    "criteria = (cv.TERM_CRITERIA_EPS + cv.TERM_CRITERIA_MAX_ITER, 10, 1.0)\n",
    "num_clusters = 4\n",
    "ret,label,center=cv.kmeans(data, num_clusters, None, criteria, num_clusters, cv.KMEANS_RANDOM_CENTERS)\n",
    "\n",
    "center = np.uint8(center)\n",
    "\n",
    "# 颜色label\n",
    "color = np.uint8([[255, 0, 0],\n",
    "                  [0, 0, 255],\n",
    "                  [128, 128, 128],\n",
    "                  [0, 255, 0]])\n",
    "\n",
    "res = color[label.flatten()]\n",
    "print(res.shape)\n",
    "# 显示\n",
    "result = res.reshape((image.shape))"
   ]
  }
 ],
 "metadata": {
  "kernelspec": {
   "display_name": "Python 3 (ipykernel)",
   "language": "python",
   "name": "python3"
  },
  "language_info": {
   "codemirror_mode": {
    "name": "ipython",
    "version": 3
   },
   "file_extension": ".py",
   "mimetype": "text/x-python",
   "name": "python",
   "nbconvert_exporter": "python",
   "pygments_lexer": "ipython3",
   "version": "3.8.12"
  }
 },
 "nbformat": 4,
 "nbformat_minor": 5
}
