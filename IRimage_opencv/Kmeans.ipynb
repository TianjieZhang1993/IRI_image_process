{
 "cells": [
  {
   "cell_type": "markdown",
   "id": "18d138ee",
   "metadata": {},
   "source": [
    "Reference: https://docs.opencv.org/4.x/d1/d5c/tutorial_py_kmeans_opencv.html"
   ]
  },
  {
   "cell_type": "code",
   "execution_count": 1,
   "id": "1a9a257d",
   "metadata": {},
   "outputs": [],
   "source": [
    "import cv2\n",
    "import matplotlib.pyplot as plt\n",
    "import numpy as np\n",
    "from skimage import measure, morphology\n",
    "%matplotlib inline"
   ]
  },
  {
   "cell_type": "code",
   "execution_count": 2,
   "id": "e411f563",
   "metadata": {},
   "outputs": [],
   "source": [
    "image = cv2.imread('o1.jpg')\n",
    "image.shape\n",
    "data = image.reshape((-1,3))\n",
    "data = np.float32(image)"
   ]
  },
  {
   "cell_type": "code",
   "execution_count": null,
   "id": "5269907e",
   "metadata": {},
   "outputs": [],
   "source": [
    "criteria = (cv2.TERM_CRITERIA_EPS + cv2.TERM_CRITERIA_MAX_ITER, 10, 1.0)\n",
    "num_clusters = 3\n",
    "ret,label,center=cv2.kmeans(data, num_clusters, None, criteria, 10, cv2.KMEANS_RANDOM_CENTERS)\n",
    "\n",
    "center = np.uint8(center)\n",
    "res = center[label.flatten()]\n",
    "res2 = res.reshape((image.shape))\n",
    "plt.imshow(res2)\n",
    "plt.axis('off')\n",
    "plt.title('RGB image')\n",
    "# cv2.imshow('res2',res2)\n",
    "# cv2.waitKey(0)\n",
    "# cv2.destroyAllWindows()"
   ]
  },
  {
   "cell_type": "code",
   "execution_count": null,
   "id": "59217e12",
   "metadata": {},
   "outputs": [],
   "source": []
  }
 ],
 "metadata": {
  "kernelspec": {
   "display_name": "Python 3 (ipykernel)",
   "language": "python",
   "name": "python3"
  },
  "language_info": {
   "codemirror_mode": {
    "name": "ipython",
    "version": 3
   },
   "file_extension": ".py",
   "mimetype": "text/x-python",
   "name": "python",
   "nbconvert_exporter": "python",
   "pygments_lexer": "ipython3",
   "version": "3.8.12"
  }
 },
 "nbformat": 4,
 "nbformat_minor": 5
}
